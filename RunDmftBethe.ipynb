{
 "cells": [
  {
   "cell_type": "code",
   "execution_count": null,
   "metadata": {
    "collapsed": true,
    "run_control": {
     "frozen": false,
     "read_only": false
    }
   },
   "outputs": [],
   "source": [
    "from pytriqs.gf.local import *\n",
    "from pytriqs.archive import *\n",
    "import pytriqs.utility.mpi as mpi\n",
    "from pytriqs.applications.impurity_solvers.ctint_tutorial import CtintSolver\n",
    "\n",
    "U = 2.5            # Hubbard interaction\n",
    "mu = U/2.0         # Chemical potential\n",
    "half_bandwidth=1.0 # Half bandwidth (energy unit)\n",
    "beta = 40.0        # Inverse temperature\n",
    "n_iw = 128         # Number of Matsubara frequencies\n",
    "n_cycles = 10000   # Number of MC cycles\n",
    "delta = 0.1        # delta parameter\n",
    "n_iterations = 21  # Number of DMFT iterations\n",
    "\n",
    "S = CtintSolver(beta, n_iw) # Initialize the solver\n",
    "\n",
    "S.G_iw << SemiCircular(half_bandwidth) # Initialize the Green's function\n",
    "\n",
    "with HDFArchive(\"dmft_bethe.output.h5\",'w') as A:\n",
    " A['n_iterations'] = n_iterations # Save a parameter\n",
    "\n",
    " for it in range(n_iterations): # DMFT loop\n",
    "  for name, G0 in S.G0_iw:\n",
    "   G0 << inverse(iOmega_n + mu - (half_bandwidth/2.0)**2 * S.G_iw[name] ) # Set G0\n",
    "  # Change random number generator on final iteration\n",
    "  random_name = 'mt19937' if it<n_iterations-1 else 'lagged_fibonacci19937'\n",
    "\n",
    "  S.solve(U, delta, n_cycles, random_name=random_name) # Solve the impurity problem\n",
    "\n",
    "  G_sym = (S.G_iw['up']+S.G_iw['down'])/2 # Impose paramagnetic solution\n",
    "  S.G_iw << G_sym\n",
    "\n",
    "  if mpi.is_master_node():\n",
    "   A['G%i'%it] = G_sym # Save G from every iteration to file"
   ]
  }
 ],
 "metadata": {
  "kernelspec": {
   "display_name": "Python 2",
   "language": "python",
   "name": "python2"
  },
  "language_info": {
   "codemirror_mode": {
    "name": "ipython",
    "version": 2
   },
   "file_extension": ".py",
   "mimetype": "text/x-python",
   "name": "python",
   "nbconvert_exporter": "python",
   "pygments_lexer": "ipython2",
   "version": "2.7.13"
  },
  "latex_envs": {
   "LaTeX_envs_menu_present": true,
   "autocomplete": true,
   "bibliofile": "biblio.bib",
   "cite_by": "apalike",
   "current_citInitial": 1,
   "eqLabelWithNumbers": true,
   "eqNumInitial": 1,
   "hotkeys": {
    "equation": "Ctrl-E",
    "itemize": "Ctrl-I"
   },
   "labels_anchors": false,
   "latex_user_defs": false,
   "report_style_numbering": false,
   "user_envs_cfg": false
  }
 },
 "nbformat": 4,
 "nbformat_minor": 2
}
